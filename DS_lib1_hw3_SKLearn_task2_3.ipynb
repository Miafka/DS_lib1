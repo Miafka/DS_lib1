{
 "cells": [
  {
   "cell_type": "markdown",
   "id": "b74520ec",
   "metadata": {},
   "source": [
    "### Задание 2\n",
    "Создайте модель под названием **model** с помощью `RandomForestRegressor` из модуля `sklearn.ensemble`.\n",
    "\n",
    "Сделайте агрумент **n_estimators** равным 1000, `max_depth` должен быть равен 12 и `random_state` сделайте равным 42.\n",
    "\n",
    "Обучите модель на тренировочных данных аналогично тому, как вы обучали модель `LinearRegression`, но при этом в метод `fit` вместо датафрейма **y_train** поставьте **y_train.values[:, 0]**, чтобы получить из датафрейма одномерный массив `Numpy`,\n",
    "так как для класса `RandomForestRegressor` в данном методе для аргумента **y** предпочтительно применение массивов вместо датафрейма.\n",
    "\n",
    "Сделайте предсказание на тестовых данных и посчитайте **R2**. Сравните с результатом из предыдущего задания. Напишите в комментариях к коду, какая модель в данном случае работает лучше.\n"
   ]
  },
  {
   "cell_type": "code",
   "execution_count": 2,
   "id": "97ebe137",
   "metadata": {},
   "outputs": [],
   "source": [
    "import warnings\n",
    "\n",
    "import numpy as np\n",
    "import pandas as pd\n",
    "\n",
    "from sklearn.datasets import load_boston\n",
    "from sklearn.model_selection import train_test_split\n",
    "from sklearn.ensemble import RandomForestRegressor\n",
    "from sklearn.metrics import r2_score\n",
    "\n",
    "\n",
    "warnings.filterwarnings('ignore')"
   ]
  },
  {
   "cell_type": "code",
   "execution_count": 5,
   "id": "996b89a7",
   "metadata": {},
   "outputs": [],
   "source": [
    "forest_model = RandomForestRegressor(\n",
    "    n_estimators=1000,\n",
    "    max_depth=12,\n",
    "    random_state=42,\n",
    ")"
   ]
  },
  {
   "cell_type": "code",
   "execution_count": 6,
   "id": "b99ddc49",
   "metadata": {},
   "outputs": [],
   "source": [
    "boston = load_boston()\n",
    "data = boston[\"data\"]"
   ]
  },
  {
   "cell_type": "code",
   "execution_count": 7,
   "id": "5f0089a7",
   "metadata": {},
   "outputs": [],
   "source": [
    "X = pd.DataFrame(data=boston.data, columns=boston['feature_names'])"
   ]
  },
  {
   "cell_type": "code",
   "execution_count": 8,
   "id": "1a901ad2",
   "metadata": {},
   "outputs": [],
   "source": [
    "Y = pd.DataFrame(data=boston.target, columns=['price'])"
   ]
  },
  {
   "cell_type": "code",
   "execution_count": 9,
   "id": "b52058b9",
   "metadata": {},
   "outputs": [],
   "source": [
    "X_train, X_test, Y_train, Y_test = train_test_split(X, Y, test_size=0.3, random_state=42)"
   ]
  },
  {
   "cell_type": "code",
   "execution_count": 10,
   "id": "ab3c132d",
   "metadata": {},
   "outputs": [],
   "source": [
    "forest_model_ref = forest_model.fit(X_train, Y_train.values[:, 0])"
   ]
  },
  {
   "cell_type": "code",
   "execution_count": 19,
   "id": "60dc791c",
   "metadata": {},
   "outputs": [
    {
     "name": "stdout",
     "output_type": "stream",
     "text": [
      "[[22.80641237]\n",
      " [31.13146352]\n",
      " [16.33912494]\n",
      " [23.81072598]\n",
      " [17.13952074]\n",
      " [21.8322837 ]] \n",
      "\n",
      "     price\n",
      "173   23.6\n",
      "274   32.4\n",
      "491   13.6\n",
      "72    22.8\n",
      "452   16.1\n",
      "76    20.0\n"
     ]
    }
   ],
   "source": [
    "Y_pred = forest_model_ref.predict(X_test)\n",
    "print((Y_pred[:6].reshape(-1, 1)), '\\n') \n",
    "print(Y_test.head(6))"
   ]
  },
  {
   "cell_type": "code",
   "execution_count": 24,
   "id": "d3b9d171",
   "metadata": {},
   "outputs": [
    {
     "data": {
      "text/plain": [
       "0.87472606157312"
      ]
     },
     "execution_count": 24,
     "metadata": {},
     "output_type": "execute_result"
    }
   ],
   "source": [
    "forest_model_r2 = r2_score(y_true=Y_test, y_pred=Y_pred.flatten())\n",
    "forest_model_r2"
   ]
  },
  {
   "cell_type": "code",
   "execution_count": 25,
   "id": "7d1ba6a2",
   "metadata": {},
   "outputs": [],
   "source": [
    "lr_r2 = 0.7112260057484974"
   ]
  },
  {
   "cell_type": "code",
   "execution_count": 26,
   "id": "4606fbc3",
   "metadata": {},
   "outputs": [
    {
     "data": {
      "text/plain": [
       "0.16350005582462268"
      ]
     },
     "execution_count": 26,
     "metadata": {},
     "output_type": "execute_result"
    }
   ],
   "source": [
    "0.87472606157312 - 0.7112260057484974"
   ]
  },
  {
   "cell_type": "code",
   "execution_count": 28,
   "id": "74f17552",
   "metadata": {},
   "outputs": [
    {
     "data": {
      "text/plain": [
       "186.92"
      ]
     },
     "execution_count": 28,
     "metadata": {},
     "output_type": "execute_result"
    }
   ],
   "source": [
    "forest_r2_scale = round(100 * (forest_model_r2 - lr_r2) / forest_model_r2, 2)\n",
    "forest_r2_scale"
   ]
  },
  {
   "cell_type": "markdown",
   "id": "89077417",
   "metadata": {},
   "source": [
    "Вывод: модель, обученная на алгоритме RandomForestRegressor, на данном датасете работает лучше, чем модель на LinearRegression, дает  на 18.69% более точный прогноз."
   ]
  },
  {
   "cell_type": "markdown",
   "id": "0ef165d6",
   "metadata": {},
   "source": [
    "### Задание 3\n",
    "Вызовите документацию для класса `RandomForestRegressor`, найдите информацию об атрибуте `feature_importances_`.\n",
    "\n",
    "С помощью этого атрибута найдите сумму всех показателей важности, установите, какие два признака показывают наибольшую важность.\n"
   ]
  },
  {
   "cell_type": "code",
   "execution_count": 33,
   "id": "30378c45",
   "metadata": {},
   "outputs": [],
   "source": [
    "?RandomForestRegressor"
   ]
  },
  {
   "cell_type": "code",
   "execution_count": 47,
   "id": "74ada1a2",
   "metadata": {},
   "outputs": [
    {
     "data": {
      "text/html": [
       "<div>\n",
       "<style scoped>\n",
       "    .dataframe tbody tr th:only-of-type {\n",
       "        vertical-align: middle;\n",
       "    }\n",
       "\n",
       "    .dataframe tbody tr th {\n",
       "        vertical-align: top;\n",
       "    }\n",
       "\n",
       "    .dataframe thead th {\n",
       "        text-align: right;\n",
       "    }\n",
       "</style>\n",
       "<table border=\"1\" class=\"dataframe\">\n",
       "  <thead>\n",
       "    <tr style=\"text-align: right;\">\n",
       "      <th></th>\n",
       "      <th>importance_sign</th>\n",
       "      <th>name</th>\n",
       "    </tr>\n",
       "  </thead>\n",
       "  <tbody>\n",
       "    <tr>\n",
       "      <th>0</th>\n",
       "      <td>0.031676</td>\n",
       "      <td>CRIM</td>\n",
       "    </tr>\n",
       "    <tr>\n",
       "      <th>1</th>\n",
       "      <td>0.001543</td>\n",
       "      <td>ZN</td>\n",
       "    </tr>\n",
       "    <tr>\n",
       "      <th>2</th>\n",
       "      <td>0.007138</td>\n",
       "      <td>INDUS</td>\n",
       "    </tr>\n",
       "    <tr>\n",
       "      <th>3</th>\n",
       "      <td>0.001236</td>\n",
       "      <td>CHAS</td>\n",
       "    </tr>\n",
       "    <tr>\n",
       "      <th>4</th>\n",
       "      <td>0.014269</td>\n",
       "      <td>NOX</td>\n",
       "    </tr>\n",
       "    <tr>\n",
       "      <th>5</th>\n",
       "      <td>0.402682</td>\n",
       "      <td>RM</td>\n",
       "    </tr>\n",
       "    <tr>\n",
       "      <th>6</th>\n",
       "      <td>0.014299</td>\n",
       "      <td>AGE</td>\n",
       "    </tr>\n",
       "    <tr>\n",
       "      <th>7</th>\n",
       "      <td>0.063973</td>\n",
       "      <td>DIS</td>\n",
       "    </tr>\n",
       "    <tr>\n",
       "      <th>8</th>\n",
       "      <td>0.005281</td>\n",
       "      <td>RAD</td>\n",
       "    </tr>\n",
       "    <tr>\n",
       "      <th>9</th>\n",
       "      <td>0.011525</td>\n",
       "      <td>TAX</td>\n",
       "    </tr>\n",
       "    <tr>\n",
       "      <th>10</th>\n",
       "      <td>0.018081</td>\n",
       "      <td>PTRATIO</td>\n",
       "    </tr>\n",
       "    <tr>\n",
       "      <th>11</th>\n",
       "      <td>0.012451</td>\n",
       "      <td>B</td>\n",
       "    </tr>\n",
       "    <tr>\n",
       "      <th>12</th>\n",
       "      <td>0.415847</td>\n",
       "      <td>LSTAT</td>\n",
       "    </tr>\n",
       "  </tbody>\n",
       "</table>\n",
       "</div>"
      ],
      "text/plain": [
       "    importance_sign     name\n",
       "0          0.031676     CRIM\n",
       "1          0.001543       ZN\n",
       "2          0.007138    INDUS\n",
       "3          0.001236     CHAS\n",
       "4          0.014269      NOX\n",
       "5          0.402682       RM\n",
       "6          0.014299      AGE\n",
       "7          0.063973      DIS\n",
       "8          0.005281      RAD\n",
       "9          0.011525      TAX\n",
       "10         0.018081  PTRATIO\n",
       "11         0.012451        B\n",
       "12         0.415847    LSTAT"
      ]
     },
     "execution_count": 47,
     "metadata": {},
     "output_type": "execute_result"
    }
   ],
   "source": [
    "importance_sign = pd.DataFrame(\n",
    "    {'name':X.columns, \n",
    "    'importance_sign':forest_model.feature_importances_}, \n",
    "    columns=['importance_sign', 'name'],\n",
    ")\n",
    "importance_sign"
   ]
  },
  {
   "cell_type": "code",
   "execution_count": 83,
   "id": "da2f7307",
   "metadata": {},
   "outputs": [
    {
     "data": {
      "text/plain": [
       "importance_sign                                              1.0\n",
       "name               CRIMZNINDUSCHASNOXRMAGEDISRADTAXPTRATIOBLSTAT\n",
       "dtype: object"
      ]
     },
     "execution_count": 83,
     "metadata": {},
     "output_type": "execute_result"
    }
   ],
   "source": [
    "importance_sign.sum()"
   ]
  },
  {
   "cell_type": "code",
   "execution_count": 58,
   "id": "6d19a645",
   "metadata": {},
   "outputs": [
    {
     "data": {
      "text/html": [
       "<div>\n",
       "<style scoped>\n",
       "    .dataframe tbody tr th:only-of-type {\n",
       "        vertical-align: middle;\n",
       "    }\n",
       "\n",
       "    .dataframe tbody tr th {\n",
       "        vertical-align: top;\n",
       "    }\n",
       "\n",
       "    .dataframe thead th {\n",
       "        text-align: right;\n",
       "    }\n",
       "</style>\n",
       "<table border=\"1\" class=\"dataframe\">\n",
       "  <thead>\n",
       "    <tr style=\"text-align: right;\">\n",
       "      <th></th>\n",
       "      <th>importance_sign</th>\n",
       "      <th>name</th>\n",
       "    </tr>\n",
       "  </thead>\n",
       "  <tbody>\n",
       "    <tr>\n",
       "      <th>12</th>\n",
       "      <td>0.415847</td>\n",
       "      <td>LSTAT</td>\n",
       "    </tr>\n",
       "    <tr>\n",
       "      <th>5</th>\n",
       "      <td>0.402682</td>\n",
       "      <td>RM</td>\n",
       "    </tr>\n",
       "  </tbody>\n",
       "</table>\n",
       "</div>"
      ],
      "text/plain": [
       "    importance_sign   name\n",
       "12         0.415847  LSTAT\n",
       "5          0.402682     RM"
      ]
     },
     "execution_count": 58,
     "metadata": {},
     "output_type": "execute_result"
    }
   ],
   "source": [
    "importance_sign.nlargest(2, 'importance_sign')"
   ]
  },
  {
   "cell_type": "markdown",
   "id": "9f41f107",
   "metadata": {},
   "source": [
    "Наибольшей важностью обладают признаки LSTAT и RM."
   ]
  }
 ],
 "metadata": {
  "kernelspec": {
   "display_name": "Python 3",
   "language": "python",
   "name": "python3"
  },
  "language_info": {
   "codemirror_mode": {
    "name": "ipython",
    "version": 3
   },
   "file_extension": ".py",
   "mimetype": "text/x-python",
   "name": "python",
   "nbconvert_exporter": "python",
   "pygments_lexer": "ipython3",
   "version": "3.9.4"
  }
 },
 "nbformat": 4,
 "nbformat_minor": 5
}
